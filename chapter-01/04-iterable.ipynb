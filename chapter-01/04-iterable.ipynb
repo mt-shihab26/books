{
 "cells": [
  {
   "cell_type": "code",
   "execution_count": 11,
   "metadata": {},
   "outputs": [
    {
     "name": "stdout",
     "output_type": "stream",
     "text": [
      "<class 'list_iterator'> <list_iterator object at 0x7ff1b6036100>\n"
     ]
    }
   ],
   "source": [
    "li = [1, 2, 3]\n",
    "it = iter(li)\n",
    "print(type(it), it)"
   ]
  },
  {
   "cell_type": "code",
   "execution_count": 12,
   "metadata": {},
   "outputs": [
    {
     "name": "stdout",
     "output_type": "stream",
     "text": [
      "<class 'tuple_iterator'> <tuple_iterator object at 0x7ff1b47769d0>\n"
     ]
    }
   ],
   "source": [
    "tpl = (1, 2, 3)\n",
    "it = iter(tpl)\n",
    "print(type(it), it)"
   ]
  },
  {
   "cell_type": "code",
   "execution_count": 13,
   "metadata": {},
   "outputs": [
    {
     "name": "stdout",
     "output_type": "stream",
     "text": [
      "<class 'set_iterator'> <set_iterator object at 0x7ff1b478edc0>\n"
     ]
    }
   ],
   "source": [
    "st = {1, 2, 3}\n",
    "it = iter(st)\n",
    "print(type(it), it)"
   ]
  },
  {
   "cell_type": "code",
   "execution_count": 14,
   "metadata": {},
   "outputs": [
    {
     "name": "stdout",
     "output_type": "stream",
     "text": [
      "<class 'dict_keyiterator'> <dict_keyiterator object at 0x7ff1b6047590>\n"
     ]
    }
   ],
   "source": [
    "dt = {'a': 'A', 'b': 'B'}\n",
    "it = iter(dt)\n",
    "print(type(it), it)"
   ]
  }
 ],
 "metadata": {
  "interpreter": {
   "hash": "916dbcbb3f70747c44a77c7bcd40155683ae19c65e1c03b4aa3499c5328201f1"
  },
  "kernelspec": {
   "display_name": "Python 3.8.10 64-bit",
   "language": "python",
   "name": "python3"
  },
  "language_info": {
   "codemirror_mode": {
    "name": "ipython",
    "version": 3
   },
   "file_extension": ".py",
   "mimetype": "text/x-python",
   "name": "python",
   "nbconvert_exporter": "python",
   "pygments_lexer": "ipython3",
   "version": "3.8.10"
  },
  "orig_nbformat": 4
 },
 "nbformat": 4,
 "nbformat_minor": 2
}
